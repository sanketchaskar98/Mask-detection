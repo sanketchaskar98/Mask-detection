{
 "cells": [
  {
   "cell_type": "markdown",
   "metadata": {},
   "source": [
    "FACE MASK DETECTION"
   ]
  },
  {
   "cell_type": "code",
   "execution_count": 1,
   "metadata": {},
   "outputs": [],
   "source": [
    "#import required libraries\n",
    "import tensorflow"
   ]
  },
  {
   "cell_type": "code",
   "execution_count": 2,
   "metadata": {},
   "outputs": [],
   "source": [
    "#image generation and devide dataset into train and validation dataset\n",
    "from tensorflow.keras.preprocessing.image import ImageDataGenerator\n",
    "\n",
    "train_gen=ImageDataGenerator(rescale=1./255,shear_range=0.2,zoom_range=0.2,horizontal_flip=True,validation_split=0.20)"
   ]
  },
  {
   "cell_type": "code",
   "execution_count": 3,
   "metadata": {},
   "outputs": [
    {
     "name": "stdout",
     "output_type": "stream",
     "text": [
      "Found 643 images belonging to 2 classes.\n"
     ]
    }
   ],
   "source": [
    "#train dataset\n",
    "train_data=train_gen.flow_from_directory(\"mask_dataset\",\n",
    "                                          target_size=(224,224),batch_size=32,class_mode=\"binary\",subset=\"training\")"
   ]
  },
  {
   "cell_type": "code",
   "execution_count": 4,
   "metadata": {},
   "outputs": [
    {
     "data": {
      "text/plain": [
       "{'with_mask': 0, 'without_mask': 1}"
      ]
     },
     "execution_count": 4,
     "metadata": {},
     "output_type": "execute_result"
    }
   ],
   "source": [
    "#classes of train dataset\n",
    "train_data.class_indices"
   ]
  },
  {
   "cell_type": "code",
   "execution_count": 5,
   "metadata": {},
   "outputs": [
    {
     "name": "stdout",
     "output_type": "stream",
     "text": [
      "Found 160 images belonging to 2 classes.\n"
     ]
    }
   ],
   "source": [
    "#for validation data\n",
    "validation_data=train_gen.flow_from_directory(\"mask_dataset\",\n",
    "                                          target_size=(224,224),batch_size=32,class_mode=\"binary\",subset=\"validation\")"
   ]
  },
  {
   "cell_type": "code",
   "execution_count": 6,
   "metadata": {},
   "outputs": [
    {
     "data": {
      "text/plain": [
       "{'with_mask': 0, 'without_mask': 1}"
      ]
     },
     "execution_count": 6,
     "metadata": {},
     "output_type": "execute_result"
    }
   ],
   "source": [
    "#classes for validation dataset\n",
    "validation_data.class_indices"
   ]
  },
  {
   "cell_type": "markdown",
   "metadata": {},
   "source": [
    "BUILD CNN ARCHITECTURE"
   ]
  },
  {
   "cell_type": "code",
   "execution_count": 7,
   "metadata": {},
   "outputs": [],
   "source": [
    "from tensorflow.keras.models import Sequential\n",
    "\n",
    "from tensorflow.keras.layers import Conv2D,MaxPool2D,Flatten,Dense,Dropout,BatchNormalization"
   ]
  },
  {
   "cell_type": "code",
   "execution_count": 8,
   "metadata": {},
   "outputs": [],
   "source": [
    "#built architecture\n",
    "model=Sequential()\n",
    "\n",
    "model.add(Conv2D(filters=32,kernel_size=3,activation=\"relu\",padding=\"same\",input_shape=[224,224,3]))\n",
    "model.add(MaxPool2D(pool_size=2))\n",
    "model.add(Conv2D(filters=32,kernel_size=3,activation=\"relu\"))\n",
    "model.add(MaxPool2D(pool_size=2))\n",
    "model.add(BatchNormalization())\n",
    "model.add(Flatten())\n",
    "model.add(Dense(units=32,activation=\"relu\"))\n",
    "model.add(Dropout(0.25))\n",
    "model.add(BatchNormalization())\n",
    "model.add(Dense(units=16,activation=\"relu\"))\n",
    "model.add(Dropout(0.25))\n",
    "model.add(BatchNormalization())\n",
    "model.add(Dense(units=1,activation=\"sigmoid\"))"
   ]
  },
  {
   "cell_type": "code",
   "execution_count": 9,
   "metadata": {},
   "outputs": [
    {
     "name": "stdout",
     "output_type": "stream",
     "text": [
      "Model: \"sequential\"\n",
      "_________________________________________________________________\n",
      " Layer (type)                Output Shape              Param #   \n",
      "=================================================================\n",
      " conv2d (Conv2D)             (None, 224, 224, 32)      896       \n",
      "                                                                 \n",
      " max_pooling2d (MaxPooling2D  (None, 112, 112, 32)     0         \n",
      " )                                                               \n",
      "                                                                 \n",
      " conv2d_1 (Conv2D)           (None, 110, 110, 32)      9248      \n",
      "                                                                 \n",
      " max_pooling2d_1 (MaxPooling  (None, 55, 55, 32)       0         \n",
      " 2D)                                                             \n",
      "                                                                 \n",
      " batch_normalization (BatchN  (None, 55, 55, 32)       128       \n",
      " ormalization)                                                   \n",
      "                                                                 \n",
      " flatten (Flatten)           (None, 96800)             0         \n",
      "                                                                 \n",
      " dense (Dense)               (None, 32)                3097632   \n",
      "                                                                 \n",
      " dropout (Dropout)           (None, 32)                0         \n",
      "                                                                 \n",
      " batch_normalization_1 (Batc  (None, 32)               128       \n",
      " hNormalization)                                                 \n",
      "                                                                 \n",
      " dense_1 (Dense)             (None, 16)                528       \n",
      "                                                                 \n",
      " dropout_1 (Dropout)         (None, 16)                0         \n",
      "                                                                 \n",
      " batch_normalization_2 (Batc  (None, 16)               64        \n",
      " hNormalization)                                                 \n",
      "                                                                 \n",
      " dense_2 (Dense)             (None, 1)                 17        \n",
      "                                                                 \n",
      "=================================================================\n",
      "Total params: 3,108,641\n",
      "Trainable params: 3,108,481\n",
      "Non-trainable params: 160\n",
      "_________________________________________________________________\n"
     ]
    }
   ],
   "source": [
    "#summarize the model\n",
    "model.summary()"
   ]
  },
  {
   "cell_type": "code",
   "execution_count": 10,
   "metadata": {},
   "outputs": [],
   "source": [
    "#compile the model\n",
    "model.compile(optimizer=\"adam\",loss=\"binary_crossentropy\",metrics=[\"accuracy\"])"
   ]
  },
  {
   "cell_type": "code",
   "execution_count": 11,
   "metadata": {},
   "outputs": [],
   "source": [
    "#import callback for avoid overfitting\n",
    "from tensorflow.keras.callbacks import EarlyStopping\n",
    "\n",
    "es=EarlyStopping(monitor=\"accuracy\",patience=10)"
   ]
  },
  {
   "cell_type": "code",
   "execution_count": 12,
   "metadata": {},
   "outputs": [
    {
     "name": "stdout",
     "output_type": "stream",
     "text": [
      "Epoch 1/20\n",
      "21/21 [==============================] - 60s 3s/step - loss: 0.4673 - accuracy: 0.7823 - val_loss: 0.5708 - val_accuracy: 0.6062\n",
      "Epoch 2/20\n",
      "21/21 [==============================] - 45s 2s/step - loss: 0.2813 - accuracy: 0.9238 - val_loss: 0.6013 - val_accuracy: 0.5063\n",
      "Epoch 3/20\n",
      "21/21 [==============================] - 46s 2s/step - loss: 0.2736 - accuracy: 0.9129 - val_loss: 0.6481 - val_accuracy: 0.4938\n",
      "Epoch 4/20\n",
      "21/21 [==============================] - 46s 2s/step - loss: 0.2244 - accuracy: 0.9393 - val_loss: 0.5186 - val_accuracy: 0.7563\n",
      "Epoch 5/20\n",
      "21/21 [==============================] - 47s 2s/step - loss: 0.1978 - accuracy: 0.9440 - val_loss: 0.5557 - val_accuracy: 0.5500\n",
      "Epoch 6/20\n",
      "21/21 [==============================] - 46s 2s/step - loss: 0.1410 - accuracy: 0.9689 - val_loss: 0.5509 - val_accuracy: 0.5500\n",
      "Epoch 7/20\n",
      "21/21 [==============================] - 45s 2s/step - loss: 0.1360 - accuracy: 0.9658 - val_loss: 0.4310 - val_accuracy: 0.8750\n",
      "Epoch 8/20\n",
      "21/21 [==============================] - 45s 2s/step - loss: 0.1523 - accuracy: 0.9642 - val_loss: 0.4864 - val_accuracy: 0.7188\n",
      "Epoch 9/20\n",
      "21/21 [==============================] - 45s 2s/step - loss: 0.1320 - accuracy: 0.9673 - val_loss: 0.4404 - val_accuracy: 0.7937\n",
      "Epoch 10/20\n",
      "21/21 [==============================] - 46s 2s/step - loss: 0.1123 - accuracy: 0.9767 - val_loss: 0.3911 - val_accuracy: 0.9000\n",
      "Epoch 11/20\n",
      "21/21 [==============================] - 46s 2s/step - loss: 0.0934 - accuracy: 0.9844 - val_loss: 0.3008 - val_accuracy: 0.9625\n",
      "Epoch 12/20\n",
      "21/21 [==============================] - 46s 2s/step - loss: 0.1040 - accuracy: 0.9720 - val_loss: 0.2806 - val_accuracy: 0.9187\n",
      "Epoch 13/20\n",
      "21/21 [==============================] - 45s 2s/step - loss: 0.1119 - accuracy: 0.9689 - val_loss: 0.2556 - val_accuracy: 0.9937\n",
      "Epoch 14/20\n",
      "21/21 [==============================] - 45s 2s/step - loss: 0.1088 - accuracy: 0.9736 - val_loss: 0.3757 - val_accuracy: 0.8000\n",
      "Epoch 15/20\n",
      "21/21 [==============================] - 45s 2s/step - loss: 0.0988 - accuracy: 0.9767 - val_loss: 0.2030 - val_accuracy: 0.9750\n",
      "Epoch 16/20\n",
      "21/21 [==============================] - 45s 2s/step - loss: 0.0896 - accuracy: 0.9782 - val_loss: 0.2051 - val_accuracy: 0.9563\n",
      "Epoch 17/20\n",
      "21/21 [==============================] - 46s 2s/step - loss: 0.1130 - accuracy: 0.9611 - val_loss: 0.5210 - val_accuracy: 0.6812\n",
      "Epoch 18/20\n",
      "21/21 [==============================] - 45s 2s/step - loss: 0.0773 - accuracy: 0.9767 - val_loss: 0.1635 - val_accuracy: 0.9875\n",
      "Epoch 19/20\n",
      "21/21 [==============================] - 45s 2s/step - loss: 0.1126 - accuracy: 0.9658 - val_loss: 0.2735 - val_accuracy: 0.9250\n",
      "Epoch 20/20\n",
      "21/21 [==============================] - 48s 2s/step - loss: 0.0711 - accuracy: 0.9782 - val_loss: 0.1226 - val_accuracy: 0.9625\n"
     ]
    },
    {
     "data": {
      "text/plain": [
       "<keras.callbacks.History at 0x178c43a9910>"
      ]
     },
     "execution_count": 12,
     "metadata": {},
     "output_type": "execute_result"
    }
   ],
   "source": [
    "#fit the model\n",
    "model.fit(train_data,validation_data=validation_data,callbacks=[es],epochs=20)"
   ]
  },
  {
   "cell_type": "code",
   "execution_count": 13,
   "metadata": {},
   "outputs": [],
   "source": [
    "#save both the model weights and model architecture in h5 file\n",
    "model.save(\"mask_cnn.h5\")"
   ]
  },
  {
   "cell_type": "markdown",
   "metadata": {},
   "source": [
    "FACE MASK DETECTION FROM TRAINED MODEL(mask_cnn.h5)"
   ]
  },
  {
   "cell_type": "code",
   "execution_count": 14,
   "metadata": {},
   "outputs": [
    {
     "name": "stdout",
     "output_type": "stream",
     "text": [
      "Model: \"sequential\"\n",
      "_________________________________________________________________\n",
      " Layer (type)                Output Shape              Param #   \n",
      "=================================================================\n",
      " conv2d (Conv2D)             (None, 224, 224, 32)      896       \n",
      "                                                                 \n",
      " max_pooling2d (MaxPooling2D  (None, 112, 112, 32)     0         \n",
      " )                                                               \n",
      "                                                                 \n",
      " conv2d_1 (Conv2D)           (None, 110, 110, 32)      9248      \n",
      "                                                                 \n",
      " max_pooling2d_1 (MaxPooling  (None, 55, 55, 32)       0         \n",
      " 2D)                                                             \n",
      "                                                                 \n",
      " batch_normalization (BatchN  (None, 55, 55, 32)       128       \n",
      " ormalization)                                                   \n",
      "                                                                 \n",
      " flatten (Flatten)           (None, 96800)             0         \n",
      "                                                                 \n",
      " dense (Dense)               (None, 32)                3097632   \n",
      "                                                                 \n",
      " dropout (Dropout)           (None, 32)                0         \n",
      "                                                                 \n",
      " batch_normalization_1 (Batc  (None, 32)               128       \n",
      " hNormalization)                                                 \n",
      "                                                                 \n",
      " dense_1 (Dense)             (None, 16)                528       \n",
      "                                                                 \n",
      " dropout_1 (Dropout)         (None, 16)                0         \n",
      "                                                                 \n",
      " batch_normalization_2 (Batc  (None, 16)               64        \n",
      " hNormalization)                                                 \n",
      "                                                                 \n",
      " dense_2 (Dense)             (None, 1)                 17        \n",
      "                                                                 \n",
      "=================================================================\n",
      "Total params: 3,108,641\n",
      "Trainable params: 3,108,481\n",
      "Non-trainable params: 160\n",
      "_________________________________________________________________\n"
     ]
    }
   ],
   "source": [
    "#import trained CNN model for prediction\n",
    "from tensorflow.keras.models import load_model\n",
    "\n",
    "model=load_model(\"mask_cnn.h5\")\n",
    "model.summary()"
   ]
  },
  {
   "cell_type": "code",
   "execution_count": null,
   "metadata": {},
   "outputs": [],
   "source": []
  }
 ],
 "metadata": {
  "kernelspec": {
   "display_name": "Python 3 (ipykernel)",
   "language": "python",
   "name": "python3"
  },
  "language_info": {
   "codemirror_mode": {
    "name": "ipython",
    "version": 3
   },
   "file_extension": ".py",
   "mimetype": "text/x-python",
   "name": "python",
   "nbconvert_exporter": "python",
   "pygments_lexer": "ipython3",
   "version": "3.9.7"
  },
  "vscode": {
   "interpreter": {
    "hash": "b302cdd1e032ee910f5c889c3360c28564c92ad4f326fc3102e39fbe47faee66"
   }
  }
 },
 "nbformat": 4,
 "nbformat_minor": 2
}
